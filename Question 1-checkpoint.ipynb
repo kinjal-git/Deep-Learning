{
 "cells": [
  {
   "cell_type": "code",
   "execution_count": 1,
   "id": "e30c1441",
   "metadata": {},
   "outputs": [],
   "source": [
    "import numpy as np"
   ]
  },
  {
   "cell_type": "code",
   "execution_count": 2,
   "id": "417827e2",
   "metadata": {},
   "outputs": [
    {
     "name": "stdout",
     "output_type": "stream",
     "text": [
      "inputs : x1 is 0.5 and x2 is -0.35\n"
     ]
    }
   ],
   "source": [
    "x_1 = 0.5\n",
    "x_2 = -0.35\n",
    "print('inputs : x1 is {} and x2 is {}'.format(x_1, x_2))"
   ]
  },
  {
   "cell_type": "code",
   "execution_count": 3,
   "id": "a7f09efb",
   "metadata": {},
   "outputs": [
    {
     "name": "stdout",
     "output_type": "stream",
     "text": [
      "weights : w1 is 0.55 and w2 is 0.45 and bias : b1 is 0.15\n"
     ]
    }
   ],
   "source": [
    "w_1  = 0.55\n",
    "w_2  = 0.45\n",
    "b_1  = 0.15\n",
    "\n",
    "print('weights : w1 is {} and w2 is {} and bias : b1 is {}'.format(w_1, w_2,b_1))"
   ]
  },
  {
   "cell_type": "code",
   "execution_count": 4,
   "id": "534cd66c",
   "metadata": {},
   "outputs": [
    {
     "name": "stdout",
     "output_type": "stream",
     "text": [
      "Weighted sum of the inputs is 0.2675\n"
     ]
    }
   ],
   "source": [
    "z_1 = x_1 * w_1 + x_2 * w_2 + b_1\n",
    "\n",
    "print('Weighted sum of the inputs is {}'.format(z_1))"
   ]
  },
  {
   "cell_type": "code",
   "execution_count": 5,
   "id": "fe6a4188",
   "metadata": {},
   "outputs": [
    {
     "name": "stdout",
     "output_type": "stream",
     "text": [
      "The output of the network for x1 = 0.5 and x2 = -0.35 is 0.5665\n"
     ]
    }
   ],
   "source": [
    "a_1 = 1.0 / (1.0 + np.exp(-z_1))\n",
    "\n",
    "print('The output of the network for x1 = 0.5 and x2 = -0.35 is {}'.format(np.around(a_1, decimals=4)))"
   ]
  },
  {
   "cell_type": "code",
   "execution_count": null,
   "id": "a4be0fdb",
   "metadata": {},
   "outputs": [],
   "source": []
  }
 ],
 "metadata": {
  "kernelspec": {
   "display_name": "Python 3 (ipykernel)",
   "language": "python",
   "name": "python3"
  },
  "language_info": {
   "codemirror_mode": {
    "name": "ipython",
    "version": 3
   },
   "file_extension": ".py",
   "mimetype": "text/x-python",
   "name": "python",
   "nbconvert_exporter": "python",
   "pygments_lexer": "ipython3",
   "version": "3.10.6"
  }
 },
 "nbformat": 4,
 "nbformat_minor": 5
}
