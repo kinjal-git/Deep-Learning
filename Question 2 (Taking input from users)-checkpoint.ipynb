{
 "cells": [
  {
   "cell_type": "code",
   "execution_count": 1,
   "id": "a80d4ec5",
   "metadata": {},
   "outputs": [
    {
     "name": "stdout",
     "output_type": "stream",
     "text": [
      "Enter the number of weights: 6\n",
      "Enter the number of biases: 3\n"
     ]
    }
   ],
   "source": [
    "# Taking inputs, weights and biases from user\n",
    "import numpy as np \n",
    "\n",
    "weights = np.around(np.random.uniform(size=int(input('Enter the number of weights: '))), decimals=2) \n",
    "biases = np.around(np.random.uniform(size=int(input('Enter the number of biases: '))), decimals=2) "
   ]
  },
  {
   "cell_type": "code",
   "execution_count": 2,
   "id": "b074d667",
   "metadata": {},
   "outputs": [
    {
     "name": "stdout",
     "output_type": "stream",
     "text": [
      "[0.76 0.68 0.85 0.08 0.19 0.29]\n",
      "[0.78 0.75 0.57]\n"
     ]
    }
   ],
   "source": [
    "print(weights)\n",
    "print(biases)"
   ]
  },
  {
   "cell_type": "code",
   "execution_count": 3,
   "id": "14332293",
   "metadata": {},
   "outputs": [
    {
     "name": "stdout",
     "output_type": "stream",
     "text": [
      "Enter the number of inputs: 2\n"
     ]
    }
   ],
   "source": [
    "x = np.around(np.random.uniform(size=int(input('Enter the number of inputs: '))), decimals=2)"
   ]
  },
  {
   "cell_type": "code",
   "execution_count": 4,
   "id": "db5800c8",
   "metadata": {},
   "outputs": [
    {
     "name": "stdout",
     "output_type": "stream",
     "text": [
      "[0.89 0.72]\n"
     ]
    }
   ],
   "source": [
    "print(x)"
   ]
  },
  {
   "cell_type": "code",
   "execution_count": 5,
   "id": "4071aab9",
   "metadata": {},
   "outputs": [
    {
     "name": "stdout",
     "output_type": "stream",
     "text": [
      "The weighted sum of the inputs at the first node in the hidden layer is 1.946\n"
     ]
    }
   ],
   "source": [
    "z_11 = x[0] * weights[0] + x[1] * weights[1] + biases[0]\n",
    "\n",
    "print('The weighted sum of the inputs at the first node in the hidden layer is {}'.format(z_11))"
   ]
  },
  {
   "cell_type": "code",
   "execution_count": 6,
   "id": "0dd38469",
   "metadata": {},
   "outputs": [
    {
     "name": "stdout",
     "output_type": "stream",
     "text": [
      "The weighted sum of the inputs at the second node in the hidden layer is 1.5640999999999998\n"
     ]
    }
   ],
   "source": [
    "z_12 = x[0] * weights[2] + x[1] * weights[3] + biases[1]\n",
    "\n",
    "print('The weighted sum of the inputs at the second node in the hidden layer is {}'.format(z_12))"
   ]
  },
  {
   "cell_type": "code",
   "execution_count": 7,
   "id": "3c5725b5",
   "metadata": {},
   "outputs": [
    {
     "name": "stdout",
     "output_type": "stream",
     "text": [
      "The activation of the first node in the hidden layer is 0.875\n"
     ]
    }
   ],
   "source": [
    "a_11 = 1.0 / (1.0 + np.exp(-z_11))\n",
    "\n",
    "print('The activation of the first node in the hidden layer is {}'.format(np.around(a_11, decimals=4)))"
   ]
  },
  {
   "cell_type": "code",
   "execution_count": 8,
   "id": "65a67359",
   "metadata": {},
   "outputs": [
    {
     "name": "stdout",
     "output_type": "stream",
     "text": [
      "The activation of the second node in the hidden layer is 0.8269\n"
     ]
    }
   ],
   "source": [
    "a_12 = 1.0 / (1.0 + np.exp(-z_12))\n",
    "\n",
    "print('The activation of the second node in the hidden layer is {}'.format(np.around(a_12, decimals=4)))"
   ]
  },
  {
   "cell_type": "code",
   "execution_count": 9,
   "id": "1de4f0cd",
   "metadata": {},
   "outputs": [
    {
     "name": "stdout",
     "output_type": "stream",
     "text": [
      "The weighted sum of the inputs at the node in the output layer is 0.9761\n"
     ]
    }
   ],
   "source": [
    "z_2 = a_11 * weights[4] + a_12 * weights[5] + biases[2]\n",
    "\n",
    "print('The weighted sum of the inputs at the node in the output layer is {}'.format(np.around(z_2, decimals=4)))"
   ]
  },
  {
   "cell_type": "code",
   "execution_count": 11,
   "id": "a0dac33a",
   "metadata": {},
   "outputs": [
    {
     "name": "stdout",
     "output_type": "stream",
     "text": [
      "The output of the network for x1 and x2 is 0.7263\n"
     ]
    }
   ],
   "source": [
    "a_2=1.0 / (1.0 + np.exp(-z_2))\n",
    "\n",
    "print('The output of the network for x1 and x2 is {}'.format(np.around(a_2, decimals=4)))"
   ]
  },
  {
   "cell_type": "code",
   "execution_count": null,
   "id": "a30f7b6b",
   "metadata": {},
   "outputs": [],
   "source": []
  }
 ],
 "metadata": {
  "kernelspec": {
   "display_name": "Python 3 (ipykernel)",
   "language": "python",
   "name": "python3"
  },
  "language_info": {
   "codemirror_mode": {
    "name": "ipython",
    "version": 3
   },
   "file_extension": ".py",
   "mimetype": "text/x-python",
   "name": "python",
   "nbconvert_exporter": "python",
   "pygments_lexer": "ipython3",
   "version": "3.10.6"
  }
 },
 "nbformat": 4,
 "nbformat_minor": 5
}
