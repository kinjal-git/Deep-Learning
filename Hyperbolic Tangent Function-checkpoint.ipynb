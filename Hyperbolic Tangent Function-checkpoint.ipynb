{
 "cells": [
  {
   "cell_type": "code",
   "execution_count": 1,
   "id": "f9cd7f4c",
   "metadata": {},
   "outputs": [],
   "source": [
    "import numpy as np"
   ]
  },
  {
   "cell_type": "code",
   "execution_count": 2,
   "id": "ddd0585d",
   "metadata": {},
   "outputs": [
    {
     "name": "stdout",
     "output_type": "stream",
     "text": [
      "[0.66 0.29 0.27]\n",
      "[0.3]\n"
     ]
    }
   ],
   "source": [
    "weights = np.around(np.random.uniform(size=3), decimals=2)\n",
    "biases = np.around(np.random.uniform(size=1), decimals=2)\n",
    "\n",
    "print(weights)\n",
    "print(biases)"
   ]
  },
  {
   "cell_type": "code",
   "execution_count": 3,
   "id": "9c2ca406",
   "metadata": {},
   "outputs": [
    {
     "name": "stdout",
     "output_type": "stream",
     "text": [
      "x_1 is 0.65, x_2 is 0.75 and x_3 is 0.85\n"
     ]
    }
   ],
   "source": [
    "x_1 = 0.65\n",
    "x_2 = 0.75 \n",
    "x_3 = 0.85\n",
    "\n",
    "\n",
    "print('x_1 is {}, x_2 is {} and x_3 is {}'.format(x_1, x_2, x_3))"
   ]
  },
  {
   "cell_type": "code",
   "execution_count": 4,
   "id": "fbf04383",
   "metadata": {},
   "outputs": [
    {
     "name": "stdout",
     "output_type": "stream",
     "text": [
      "The weighted sum of the inputs is 1.1760000000000002\n"
     ]
    }
   ],
   "source": [
    "z = x_1 * weights[0] + x_2 * weights[1] + x_3 * weights[2] + biases[0]\n",
    "\n",
    "print('The weighted sum of the inputs is {}'.format(z))"
   ]
  },
  {
   "cell_type": "code",
   "execution_count": 5,
   "id": "51447d17",
   "metadata": {},
   "outputs": [],
   "source": [
    "def tanh_function(x):\n",
    "    y = (2/(1 + np.exp(-2*x))) -1\n",
    "    return y"
   ]
  },
  {
   "cell_type": "code",
   "execution_count": 6,
   "id": "a52ca167",
   "metadata": {},
   "outputs": [
    {
     "name": "stdout",
     "output_type": "stream",
     "text": [
      "0.8261861339474801\n"
     ]
    }
   ],
   "source": [
    "print(tanh_function(z))"
   ]
  },
  {
   "cell_type": "code",
   "execution_count": null,
   "id": "33285cc2",
   "metadata": {},
   "outputs": [],
   "source": []
  }
 ],
 "metadata": {
  "kernelspec": {
   "display_name": "Python 3 (ipykernel)",
   "language": "python",
   "name": "python3"
  },
  "language_info": {
   "codemirror_mode": {
    "name": "ipython",
    "version": 3
   },
   "file_extension": ".py",
   "mimetype": "text/x-python",
   "name": "python",
   "nbconvert_exporter": "python",
   "pygments_lexer": "ipython3",
   "version": "3.10.6"
  }
 },
 "nbformat": 4,
 "nbformat_minor": 5
}
